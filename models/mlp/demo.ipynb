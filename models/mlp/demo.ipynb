{
 "cells": [
  {
   "cell_type": "code",
   "execution_count": 2,
   "metadata": {},
   "outputs": [],
   "source": [
    "# !python runner.py --fold 0 --log_dir out --version 0 --prep sorted_eigen\n",
    "# !python runner.py --fold 0 --log_dir out --version 0 --prep sorted_cm\n",
    "# !python runner.py --fold 0 --log_dir out --version 0 --prep random_sorted_cm --learning_rate 0.001"
   ]
  }
 ],
 "metadata": {
  "kernelspec": {
   "display_name": "py39_qml",
   "language": "python",
   "name": "python3"
  },
  "language_info": {
   "codemirror_mode": {
    "name": "ipython",
    "version": 3
   },
   "file_extension": ".py",
   "mimetype": "text/x-python",
   "name": "python",
   "nbconvert_exporter": "python",
   "pygments_lexer": "ipython3",
   "version": "3.9.18"
  }
 },
 "nbformat": 4,
 "nbformat_minor": 2
}
